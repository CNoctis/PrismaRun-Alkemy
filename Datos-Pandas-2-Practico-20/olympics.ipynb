{
 "cells": [
  {
   "cell_type": "markdown",
   "metadata": {},
   "source": [
    "### Importación de librerias"
   ]
  },
  {
   "cell_type": "code",
   "execution_count": 56,
   "metadata": {},
   "outputs": [],
   "source": [
    "import sqlite3\n",
    "import pandas as pd\n",
    "import sqlalchemy as db\n",
    "import logging"
   ]
  },
  {
   "cell_type": "markdown",
   "metadata": {},
   "source": [
    "### Creación de logging"
   ]
  },
  {
   "cell_type": "code",
   "execution_count": 57,
   "metadata": {},
   "outputs": [],
   "source": [
    "# Creación de logging\n",
    "logging.basicConfig(filename='./logs/result.log', encoding='utf-8',\n",
    "                    level=logging.DEBUG, datefmt='%y-%m-%d %H:%M:%S',\n",
    "                    format='%(asctime)s - %(levelname)s - %(message)s')"
   ]
  },
  {
   "cell_type": "markdown",
   "metadata": {},
   "source": [
    "### Carga de datos"
   ]
  },
  {
   "cell_type": "code",
   "execution_count": 58,
   "metadata": {},
   "outputs": [],
   "source": [
    "# Carga de los datos\n",
    "try:\n",
    "    medallas_olimpicas = pd.read_csv('http://winterolympicsmedals.com/medals.csv')\n",
    "    logging.info('Archivo URL cargado exitosamente')\n",
    "except Exception:\n",
    "    medallas_olimpicas = pd.read_csv('./data/medals.csv')\n",
    "    logging.warning(f'Archivo local cargado exitosamente *** Puede que no se encuentre actualizado ***')"
   ]
  },
  {
   "cell_type": "markdown",
   "metadata": {},
   "source": [
    "### Verificación de los datos"
   ]
  },
  {
   "cell_type": "code",
   "execution_count": 59,
   "metadata": {},
   "outputs": [
    {
     "data": {
      "text/html": [
       "<div>\n",
       "<style scoped>\n",
       "    .dataframe tbody tr th:only-of-type {\n",
       "        vertical-align: middle;\n",
       "    }\n",
       "\n",
       "    .dataframe tbody tr th {\n",
       "        vertical-align: top;\n",
       "    }\n",
       "\n",
       "    .dataframe thead th {\n",
       "        text-align: right;\n",
       "    }\n",
       "</style>\n",
       "<table border=\"1\" class=\"dataframe\">\n",
       "  <thead>\n",
       "    <tr style=\"text-align: right;\">\n",
       "      <th></th>\n",
       "      <th>Year</th>\n",
       "      <th>City</th>\n",
       "      <th>Sport</th>\n",
       "      <th>Discipline</th>\n",
       "      <th>NOC</th>\n",
       "      <th>Event</th>\n",
       "      <th>Event gender</th>\n",
       "      <th>Medal</th>\n",
       "    </tr>\n",
       "  </thead>\n",
       "  <tbody>\n",
       "    <tr>\n",
       "      <th>1751</th>\n",
       "      <td>1998</td>\n",
       "      <td>Nagano</td>\n",
       "      <td>Skating</td>\n",
       "      <td>Speed skating</td>\n",
       "      <td>NED</td>\n",
       "      <td>1000m</td>\n",
       "      <td>M</td>\n",
       "      <td>Silver</td>\n",
       "    </tr>\n",
       "    <tr>\n",
       "      <th>452</th>\n",
       "      <td>1960</td>\n",
       "      <td>Squaw Valley</td>\n",
       "      <td>Skating</td>\n",
       "      <td>Speed skating</td>\n",
       "      <td>URS</td>\n",
       "      <td>500m</td>\n",
       "      <td>M</td>\n",
       "      <td>Gold</td>\n",
       "    </tr>\n",
       "    <tr>\n",
       "      <th>2196</th>\n",
       "      <td>2006</td>\n",
       "      <td>Turin</td>\n",
       "      <td>Skating</td>\n",
       "      <td>Short Track S.</td>\n",
       "      <td>KOR</td>\n",
       "      <td>1500m</td>\n",
       "      <td>W</td>\n",
       "      <td>Gold</td>\n",
       "    </tr>\n",
       "    <tr>\n",
       "      <th>806</th>\n",
       "      <td>1976</td>\n",
       "      <td>Innsbruck</td>\n",
       "      <td>Luge</td>\n",
       "      <td>Luge</td>\n",
       "      <td>FRG</td>\n",
       "      <td>singles</td>\n",
       "      <td>M</td>\n",
       "      <td>Silver</td>\n",
       "    </tr>\n",
       "    <tr>\n",
       "      <th>2235</th>\n",
       "      <td>2006</td>\n",
       "      <td>Turin</td>\n",
       "      <td>Biathlon</td>\n",
       "      <td>Biathlon</td>\n",
       "      <td>RUS</td>\n",
       "      <td>15km</td>\n",
       "      <td>W</td>\n",
       "      <td>Gold</td>\n",
       "    </tr>\n",
       "  </tbody>\n",
       "</table>\n",
       "</div>"
      ],
      "text/plain": [
       "      Year          City     Sport      Discipline  NOC    Event Event gender  \\\n",
       "1751  1998        Nagano   Skating   Speed skating  NED    1000m            M   \n",
       "452   1960  Squaw Valley   Skating   Speed skating  URS     500m            M   \n",
       "2196  2006         Turin   Skating  Short Track S.  KOR    1500m            W   \n",
       "806   1976     Innsbruck      Luge            Luge  FRG  singles            M   \n",
       "2235  2006         Turin  Biathlon        Biathlon  RUS     15km            W   \n",
       "\n",
       "       Medal  \n",
       "1751  Silver  \n",
       "452     Gold  \n",
       "2196    Gold  \n",
       "806   Silver  \n",
       "2235    Gold  "
      ]
     },
     "execution_count": 59,
     "metadata": {},
     "output_type": "execute_result"
    }
   ],
   "source": [
    "# Verificación de los datos\n",
    "medallas_olimpicas.sample(n=5)"
   ]
  },
  {
   "cell_type": "code",
   "execution_count": 60,
   "metadata": {},
   "outputs": [
    {
     "name": "stdout",
     "output_type": "stream",
     "text": [
      "<class 'pandas.core.frame.DataFrame'>\n",
      "RangeIndex: 2311 entries, 0 to 2310\n",
      "Data columns (total 8 columns):\n",
      " #   Column        Non-Null Count  Dtype \n",
      "---  ------        --------------  ----- \n",
      " 0   Year          2311 non-null   int64 \n",
      " 1   City          2311 non-null   object\n",
      " 2   Sport         2311 non-null   object\n",
      " 3   Discipline    2311 non-null   object\n",
      " 4   NOC           2311 non-null   object\n",
      " 5   Event         2311 non-null   object\n",
      " 6   Event gender  2311 non-null   object\n",
      " 7   Medal         2311 non-null   object\n",
      "dtypes: int64(1), object(7)\n",
      "memory usage: 144.6+ KB\n"
     ]
    }
   ],
   "source": [
    "# Verificación de los tipos de datos\n",
    "medallas_olimpicas.info()"
   ]
  },
  {
   "cell_type": "code",
   "execution_count": 61,
   "metadata": {},
   "outputs": [
    {
     "data": {
      "text/plain": [
       "array(['AUT', 'BEL', 'CAN', 'FIN', 'FRA', 'GBR', 'NOR', 'SUI', 'SWE',\n",
       "       'USA', 'GER', 'TCH', 'HUN', 'ITA', 'FRG', 'NED', 'EUA', 'JPN',\n",
       "       'POL', 'URS', 'PRK', 'GDR', 'ROU', 'ESP', 'LIE', 'BUL', 'YUG',\n",
       "       'CHN', 'EUN', 'KOR', 'LUX', 'NZL', 'AUS', 'BLR', 'KAZ', 'RUS',\n",
       "       'SLO', 'UKR', 'UZB', 'CZE', 'DEN', 'CRO', 'EST', 'LAT', 'SVK'],\n",
       "      dtype=object)"
      ]
     },
     "execution_count": 61,
     "metadata": {},
     "output_type": "execute_result"
    }
   ],
   "source": [
    "# Verificación de todos los códigos existentes en el DataFrame\n",
    "medallas_olimpicas['NOC'].unique()"
   ]
  },
  {
   "cell_type": "code",
   "execution_count": 62,
   "metadata": {},
   "outputs": [
    {
     "data": {
      "text/plain": [
       "array([1924, 1928, 1932, 1936, 1948, 1952, 1956, 1960, 1964, 1968, 1972,\n",
       "       1976, 1980, 1984, 1988, 1992, 1994, 1998, 2002, 2006], dtype=int64)"
      ]
     },
     "execution_count": 62,
     "metadata": {},
     "output_type": "execute_result"
    }
   ],
   "source": [
    "# Verificación de que todos los años esten en formato númerico\n",
    "medallas_olimpicas['Year'].unique()"
   ]
  },
  {
   "cell_type": "code",
   "execution_count": 63,
   "metadata": {},
   "outputs": [
    {
     "data": {
      "text/plain": [
       "array(['Silver', 'Gold', 'Bronze'], dtype=object)"
      ]
     },
     "execution_count": 63,
     "metadata": {},
     "output_type": "execute_result"
    }
   ],
   "source": [
    "# Verificación que todas las medallas hayan sido cargadas correctamente en el mismo formato\n",
    "medallas_olimpicas['Medal'].unique()"
   ]
  },
  {
   "cell_type": "markdown",
   "metadata": {},
   "source": [
    "### Filtrado de datos"
   ]
  },
  {
   "cell_type": "code",
   "execution_count": 64,
   "metadata": {},
   "outputs": [],
   "source": [
    "# Filtrado de medallas de USA mayores a 1950 y de oro\n",
    "medallas_oro_usa = medallas_olimpicas[(medallas_olimpicas['NOC']=='USA') &\n",
    "                                      (medallas_olimpicas['Year']>=1950) &\n",
    "                                      (medallas_olimpicas['Medal'] == 'Gold')]"
   ]
  },
  {
   "cell_type": "markdown",
   "metadata": {},
   "source": [
    "### Verificación del filtrado de datos"
   ]
  },
  {
   "cell_type": "code",
   "execution_count": 65,
   "metadata": {},
   "outputs": [
    {
     "data": {
      "text/html": [
       "<div>\n",
       "<style scoped>\n",
       "    .dataframe tbody tr th:only-of-type {\n",
       "        vertical-align: middle;\n",
       "    }\n",
       "\n",
       "    .dataframe tbody tr th {\n",
       "        vertical-align: top;\n",
       "    }\n",
       "\n",
       "    .dataframe thead th {\n",
       "        text-align: right;\n",
       "    }\n",
       "</style>\n",
       "<table border=\"1\" class=\"dataframe\">\n",
       "  <thead>\n",
       "    <tr style=\"text-align: right;\">\n",
       "      <th></th>\n",
       "      <th>Year</th>\n",
       "      <th>City</th>\n",
       "      <th>Sport</th>\n",
       "      <th>Discipline</th>\n",
       "      <th>NOC</th>\n",
       "      <th>Event</th>\n",
       "      <th>Event gender</th>\n",
       "      <th>Medal</th>\n",
       "    </tr>\n",
       "  </thead>\n",
       "  <tbody>\n",
       "    <tr>\n",
       "      <th>388</th>\n",
       "      <td>1956</td>\n",
       "      <td>Cortina d'Ampezzo</td>\n",
       "      <td>Skating</td>\n",
       "      <td>Figure skating</td>\n",
       "      <td>USA</td>\n",
       "      <td>individual</td>\n",
       "      <td>W</td>\n",
       "      <td>Gold</td>\n",
       "    </tr>\n",
       "    <tr>\n",
       "      <th>311</th>\n",
       "      <td>1952</td>\n",
       "      <td>Oslo</td>\n",
       "      <td>Skating</td>\n",
       "      <td>Figure skating</td>\n",
       "      <td>USA</td>\n",
       "      <td>individual</td>\n",
       "      <td>M</td>\n",
       "      <td>Gold</td>\n",
       "    </tr>\n",
       "    <tr>\n",
       "      <th>674</th>\n",
       "      <td>1968</td>\n",
       "      <td>Grenoble</td>\n",
       "      <td>Skating</td>\n",
       "      <td>Figure skating</td>\n",
       "      <td>USA</td>\n",
       "      <td>individual</td>\n",
       "      <td>W</td>\n",
       "      <td>Gold</td>\n",
       "    </tr>\n",
       "    <tr>\n",
       "      <th>893</th>\n",
       "      <td>1976</td>\n",
       "      <td>Innsbruck</td>\n",
       "      <td>Skating</td>\n",
       "      <td>Speed skating</td>\n",
       "      <td>USA</td>\n",
       "      <td>500m</td>\n",
       "      <td>W</td>\n",
       "      <td>Gold</td>\n",
       "    </tr>\n",
       "    <tr>\n",
       "      <th>2309</th>\n",
       "      <td>2006</td>\n",
       "      <td>Turin</td>\n",
       "      <td>Skiing</td>\n",
       "      <td>Snowboard</td>\n",
       "      <td>USA</td>\n",
       "      <td>Snowboard Cross</td>\n",
       "      <td>M</td>\n",
       "      <td>Gold</td>\n",
       "    </tr>\n",
       "  </tbody>\n",
       "</table>\n",
       "</div>"
      ],
      "text/plain": [
       "      Year               City    Sport      Discipline  NOC            Event  \\\n",
       "388   1956  Cortina d'Ampezzo  Skating  Figure skating  USA       individual   \n",
       "311   1952               Oslo  Skating  Figure skating  USA       individual   \n",
       "674   1968           Grenoble  Skating  Figure skating  USA       individual   \n",
       "893   1976          Innsbruck  Skating   Speed skating  USA             500m   \n",
       "2309  2006              Turin   Skiing       Snowboard  USA  Snowboard Cross   \n",
       "\n",
       "     Event gender Medal  \n",
       "388             W  Gold  \n",
       "311             M  Gold  \n",
       "674             W  Gold  \n",
       "893             W  Gold  \n",
       "2309            M  Gold  "
      ]
     },
     "execution_count": 65,
     "metadata": {},
     "output_type": "execute_result"
    }
   ],
   "source": [
    "# Verificación de los datos\n",
    "medallas_oro_usa.sample(n=5)"
   ]
  },
  {
   "cell_type": "code",
   "execution_count": 66,
   "metadata": {},
   "outputs": [],
   "source": [
    "# Verificación que la longitud obtenida tenga coherencia\n",
    "# Total de datos en USA\n",
    "df_USA = medallas_olimpicas[(medallas_olimpicas['NOC']=='USA')]\n",
    "# Total de datos en 1950 >\n",
    "df_year = medallas_olimpicas[(medallas_olimpicas['Year']>=1950)]\n",
    "# Total de datos con medallas de oro\n",
    "df_oro = medallas_olimpicas[(medallas_olimpicas['Medal'] == 'Gold')]\n",
    "\n",
    "# Logeo de eventos según la coherencia de los datos\n",
    "# Verificamos que la cantidad de eventos de USA, Años y Medallas no supere al total de estos mismo\n",
    "if (df_USA.shape[0] > medallas_oro_usa.shape[0] and df_year.shape[0] > medallas_oro_usa.shape[0] and \n",
    "    df_oro.shape[0] > medallas_oro_usa.shape[0]):\n",
    "    logging.info('datos filtrados correctamente')\n",
    "else:\n",
    "    logging.warning('Los datos no mantienen coherencia ¡Por favor verifique el filtrado!')"
   ]
  },
  {
   "cell_type": "markdown",
   "metadata": {},
   "source": [
    "### Conexión con la base de datos"
   ]
  },
  {
   "cell_type": "code",
   "execution_count": 67,
   "metadata": {},
   "outputs": [],
   "source": [
    "try:\n",
    "    # Conexión a la db\n",
    "    conn = sqlite3.connect('olympics.db')\n",
    "    # Creación del cursor\n",
    "    cursor = conn.cursor()\n",
    "    logging.info('Conexión realizada con exito')\n",
    "except Exception:\n",
    "    logging.error('¡No se pudo conextar a la base de datos!')"
   ]
  },
  {
   "cell_type": "markdown",
   "metadata": {},
   "source": [
    "### Creación de tabla"
   ]
  },
  {
   "cell_type": "code",
   "execution_count": 68,
   "metadata": {},
   "outputs": [],
   "source": [
    "try:\n",
    "    # Buscamos nuestro script medallas.sql y leemos\n",
    "    with open('./query/medallas.sql', 'r') as q:\n",
    "        query = q.read()\n",
    "        cursor.execute(query)\n",
    "        conn.commit()\n",
    "        logging.info('¡Creación de tabla exitosa!')\n",
    "except Exception:\n",
    "    logging.error('¡La tabla no pudo ser creada, verifique que exista la query!')"
   ]
  },
  {
   "cell_type": "markdown",
   "metadata": {},
   "source": [
    "### Inserción de datos"
   ]
  },
  {
   "cell_type": "code",
   "execution_count": 69,
   "metadata": {},
   "outputs": [],
   "source": [
    "try:\n",
    "    # Transformación de los datos en tuplas dentro de una lista\n",
    "    list_data = list(medallas_oro_usa.itertuples(index=False, name=None))\n",
    "    # Se inserta dentro de nuestra tabla medals\n",
    "    cursor.executemany(\"INSERT INTO medals VALUES (?, ?, ?, ?, ?, ?, ?, ?)\", list_data)\n",
    "    conn.commit()\n",
    "    logging.info('Los datos fueron cargados exitosamente')\n",
    "except Exception:\n",
    "    logging.warning('Los datos no pudieron ser cargados')"
   ]
  },
  {
   "cell_type": "markdown",
   "metadata": {},
   "source": [
    "### Lectura de datos de nuestra DB"
   ]
  },
  {
   "cell_type": "code",
   "execution_count": 70,
   "metadata": {},
   "outputs": [
    {
     "name": "stdout",
     "output_type": "stream",
     "text": [
      "(1952, 'Oslo', 'Skating', 'Figure skating', 'USA', 'individual', 'M', 'Gold')\n",
      "(1952, 'Oslo', 'Skating', 'Speed skating', 'USA', '500m', 'M', 'Gold')\n",
      "(1952, 'Oslo', 'Skiing', 'Alpine Skiing', 'USA', 'giant slalom', 'W', 'Gold')\n",
      "(1952, 'Oslo', 'Skiing', 'Alpine Skiing', 'USA', 'slalom', 'W', 'Gold')\n",
      "(1956, \"Cortina d'Ampezzo\", 'Skating', 'Figure skating', 'USA', 'individual', 'M', 'Gold')\n",
      "(1956, \"Cortina d'Ampezzo\", 'Skating', 'Figure skating', 'USA', 'individual', 'W', 'Gold')\n",
      "(1960, 'Squaw Valley', 'Ice Hockey', 'Ice Hockey', 'USA', 'ice hockey', 'M', 'Gold')\n",
      "(1960, 'Squaw Valley', 'Skating', 'Figure skating', 'USA', 'individual', 'M', 'Gold')\n",
      "(1960, 'Squaw Valley', 'Skating', 'Figure skating', 'USA', 'individual', 'W', 'Gold')\n",
      "(1964, 'Innsbruck', 'Skating', 'Speed skating', 'USA', '500m', 'M', 'Gold')\n",
      "(1968, 'Grenoble', 'Skating', 'Figure skating', 'USA', 'individual', 'W', 'Gold')\n",
      "(1972, 'Sapporo', 'Skating', 'Speed skating', 'USA', '1500m', 'W', 'Gold')\n",
      "(1972, 'Sapporo', 'Skating', 'Speed skating', 'USA', '500m', 'W', 'Gold')\n",
      "(1972, 'Sapporo', 'Skiing', 'Alpine Skiing', 'USA', 'slalom', 'W', 'Gold')\n",
      "(1976, 'Innsbruck', 'Skating', 'Figure skating', 'USA', 'individual', 'W', 'Gold')\n",
      "(1976, 'Innsbruck', 'Skating', 'Speed skating', 'USA', '1000m', 'M', 'Gold')\n",
      "(1976, 'Innsbruck', 'Skating', 'Speed skating', 'USA', '500m', 'W', 'Gold')\n",
      "(1980, 'Lake Placid', 'Ice Hockey', 'Ice Hockey', 'USA', 'ice hockey', 'M', 'Gold')\n",
      "(1980, 'Lake Placid', 'Skating', 'Speed skating', 'USA', '10000m', 'M', 'Gold')\n",
      "(1980, 'Lake Placid', 'Skating', 'Speed skating', 'USA', '1000m', 'M', 'Gold')\n"
     ]
    }
   ],
   "source": [
    "try:\n",
    "    # Buscamos nuestro script medallas.sql y leemos\n",
    "    with open('./query/consulta_medallas.sql', 'r') as q:\n",
    "        query = q.read()\n",
    "        cursor.execute(query)\n",
    "        # Se carga los datos obtenidos\n",
    "        resultados = cursor.fetchall()\n",
    "        # Se muestran los datos\n",
    "        for result in resultados:\n",
    "            print(result)\n",
    "    logging.info('Los datos fueron mostrados exitosamente')\n",
    "except Exception:\n",
    "    logging.warning('¡Los datos no pudieron ser consultados, verifique que exista la query!')\n",
    "# Cierre del cursor\n",
    "conn.close()"
   ]
  }
 ],
 "metadata": {
  "kernelspec": {
   "display_name": "Python 3.10.7 64-bit",
   "language": "python",
   "name": "python3"
  },
  "language_info": {
   "codemirror_mode": {
    "name": "ipython",
    "version": 3
   },
   "file_extension": ".py",
   "mimetype": "text/x-python",
   "name": "python",
   "nbconvert_exporter": "python",
   "pygments_lexer": "ipython3",
   "version": "3.10.7"
  },
  "orig_nbformat": 4,
  "vscode": {
   "interpreter": {
    "hash": "4979fc73be1e21b7a784b53cba7d6c01653c05e2c842921d5ff7e0cca8087c9d"
   }
  }
 },
 "nbformat": 4,
 "nbformat_minor": 2
}
